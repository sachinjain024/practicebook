{
 "cells": [
  {
   "cell_type": "code",
   "execution_count": 21,
   "metadata": {},
   "outputs": [],
   "source": [
    "import pandas as pd"
   ]
  },
  {
   "cell_type": "markdown",
   "metadata": {},
   "source": [
    "## Different dimensions datastructures\n",
    "\n",
    "1. 1D - Series (Like an array)\n",
    "2. 2D - DataFrames (Like a matrix, sql table etc)\n",
    "3. 3D - Panel Data (PAN+DA)\n",
    "4. 4D+ - Pandel$d"
   ]
  },
  {
   "cell_type": "markdown",
   "metadata": {},
   "source": [
    "### Series"
   ]
  },
  {
   "cell_type": "code",
   "execution_count": 22,
   "metadata": {},
   "outputs": [
    {
     "data": {
      "text/plain": [
       "0    10\n",
       "1    20\n",
       "2    30\n",
       "3    40\n",
       "dtype: int64"
      ]
     },
     "execution_count": 22,
     "metadata": {},
     "output_type": "execute_result"
    }
   ],
   "source": [
    "s1 = pd.Series([10,20,30,40])\n",
    "s1"
   ]
  },
  {
   "cell_type": "markdown",
   "metadata": {},
   "source": [
    "> As you can see in above output, a default indexing is provided. We can also provide custom indexing like the following"
   ]
  },
  {
   "cell_type": "code",
   "execution_count": 23,
   "metadata": {},
   "outputs": [
    {
     "data": {
      "text/plain": [
       "Ten       10\n",
       "Twen      20\n",
       "Thirty    30\n",
       "Forty     40\n",
       "Fifty     50\n",
       "dtype: int64"
      ]
     },
     "execution_count": 23,
     "metadata": {},
     "output_type": "execute_result"
    }
   ],
   "source": [
    "s2 = pd.Series([10,20,30,40,50], index=['Ten', 'Twen', 'Thirty', 'Forty', 'Fifty'])\n",
    "s2"
   ]
  },
  {
   "cell_type": "code",
   "execution_count": 24,
   "metadata": {},
   "outputs": [
    {
     "data": {
      "text/plain": [
       "True"
      ]
     },
     "execution_count": 24,
     "metadata": {},
     "output_type": "execute_result"
    }
   ],
   "source": [
    "'Ten' in s2"
   ]
  },
  {
   "cell_type": "code",
   "execution_count": 25,
   "metadata": {},
   "outputs": [
    {
     "data": {
      "text/plain": [
       "False"
      ]
     },
     "execution_count": 25,
     "metadata": {},
     "output_type": "execute_result"
    }
   ],
   "source": [
    "'Hundred' in s2"
   ]
  },
  {
   "cell_type": "markdown",
   "metadata": {},
   "source": [
    "#### Convert a pandas series to python native dictionary"
   ]
  },
  {
   "cell_type": "code",
   "execution_count": 26,
   "metadata": {},
   "outputs": [
    {
     "name": "stdout",
     "output_type": "stream",
     "text": [
      "rahul     20\n",
      "sachin    25\n",
      "nishu     25\n",
      "parshv     2\n",
      "dtype: int64\n",
      "25\n",
      "{'rahul': 20, 'sachin': 25, 'nishu': 25, 'parshv': 2}\n"
     ]
    }
   ],
   "source": [
    "names = ['rahul', 'sachin', 'nishu', 'parshv']\n",
    "ages = [20, 25, 25, 2]\n",
    "\n",
    "s3 = pd.Series(ages, index=names)\n",
    "print(s3)\n",
    "\n",
    "print(s3['sachin'])\n",
    "\n",
    "print(s3.to_dict())"
   ]
  },
  {
   "cell_type": "markdown",
   "metadata": {},
   "source": [
    "#### We can also build pandas series from python dictionary"
   ]
  },
  {
   "cell_type": "code",
   "execution_count": 27,
   "metadata": {},
   "outputs": [
    {
     "data": {
      "text/plain": [
       "rahul     20\n",
       "sachin    25\n",
       "nishu     25\n",
       "parshv     2\n",
       "dtype: int64"
      ]
     },
     "execution_count": 27,
     "metadata": {},
     "output_type": "execute_result"
    }
   ],
   "source": [
    "s4_from_dict = pd.Series(s3)\n",
    "s4_from_dict"
   ]
  },
  {
   "cell_type": "markdown",
   "metadata": {},
   "source": [
    "### Question - What is the difference between dictionary and series ?"
   ]
  },
  {
   "cell_type": "markdown",
   "metadata": {},
   "source": [
    "> Dictionary is used to store key-value pairs like object in javascript\n",
    "> Pandas series is wrapper over dictionary and is used to store array-like objects, scalars and dict etc\n",
    "> Series internally store data as dictionary only\n",
    "> Series has plenty of utility methods while dictionary has less utility method\n",
    "> e.g. isNull, max, median, multiply, nonzero etc\n",
    "> https://stackoverflow.com/questions/43635694/difference-between-dictionary-and-pandas-series-in-python\n",
    "> http://pandas.pydata.org/pandas-docs/stable/generated/pandas.Series.html"
   ]
  },
  {
   "cell_type": "code",
   "execution_count": 32,
   "metadata": {},
   "outputs": [
    {
     "data": {
      "text/plain": [
       "rahul     False\n",
       "sachin    False\n",
       "nishu     False\n",
       "parshv    False\n",
       "dtype: bool"
      ]
     },
     "execution_count": 32,
     "metadata": {},
     "output_type": "execute_result"
    }
   ],
   "source": [
    "pd.isnull(s4_from_dict)"
   ]
  },
  {
   "cell_type": "markdown",
   "metadata": {},
   "source": [
    "#### Addtion of two series\n",
    "1. Values for common keys will be added\n",
    "2. Keys present in one series and not present in other series will become keys in result with NaN as value"
   ]
  },
  {
   "cell_type": "code",
   "execution_count": 29,
   "metadata": {},
   "outputs": [
    {
     "name": "stderr",
     "output_type": "stream",
     "text": [
      "/Users/sachinjain/.local/share/virtualenvs/jupyter-notebook-sny6XZEJ/lib/python3.6/site-packages/pandas/core/indexes/base.py:3140: RuntimeWarning: '<' not supported between instances of 'int' and 'str', sort order is undefined for incomparable objects\n",
      "  return this.join(other, how=how, return_indexers=return_indexers)\n"
     ]
    },
    {
     "data": {
      "text/plain": [
       "0        NaN\n",
       "1        NaN\n",
       "2        NaN\n",
       "3        NaN\n",
       "Ten      NaN\n",
       "Twen     NaN\n",
       "Thirty   NaN\n",
       "Forty    NaN\n",
       "Fifty    NaN\n",
       "dtype: float64"
      ]
     },
     "execution_count": 29,
     "metadata": {},
     "output_type": "execute_result"
    }
   ],
   "source": [
    "s1 + s2"
   ]
  },
  {
   "cell_type": "code",
   "execution_count": 31,
   "metadata": {},
   "outputs": [
    {
     "data": {
      "text/plain": [
       "rahul     40\n",
       "sachin    50\n",
       "nishu     50\n",
       "parshv     4\n",
       "dtype: int64"
      ]
     },
     "execution_count": 31,
     "metadata": {},
     "output_type": "execute_result"
    }
   ],
   "source": [
    "s3 + s4_from_dict"
   ]
  },
  {
   "cell_type": "markdown",
   "metadata": {},
   "source": [
    "#### We can attach a name to series and check the indexes and values separately"
   ]
  },
  {
   "cell_type": "code",
   "execution_count": 33,
   "metadata": {},
   "outputs": [
    {
     "name": "stdout",
     "output_type": "stream",
     "text": [
      "rahul     20\n",
      "sachin    25\n",
      "nishu     25\n",
      "parshv     2\n",
      "Name: Series made from dictionary, dtype: int64\n",
      "Index(['rahul', 'sachin', 'nishu', 'parshv'], dtype='object')\n",
      "[20 25 25  2]\n"
     ]
    }
   ],
   "source": [
    "s4_from_dict.name = \"Series made from dictionary\"\n",
    "print(s4_from_dict)\n",
    "print(s4_from_dict.index)\n",
    "print(s4_from_dict.values)"
   ]
  },
  {
   "cell_type": "code",
   "execution_count": 34,
   "metadata": {},
   "outputs": [],
   "source": [
    "#### Get subset of series"
   ]
  },
  {
   "cell_type": "code",
   "execution_count": 35,
   "metadata": {},
   "outputs": [
    {
     "data": {
      "text/plain": [
       "sachin    25\n",
       "rahul     20\n",
       "Name: Series made from dictionary, dtype: int64"
      ]
     },
     "execution_count": 35,
     "metadata": {},
     "output_type": "execute_result"
    }
   ],
   "source": [
    "s4_from_dict[['sachin', 'rahul']]"
   ]
  },
  {
   "cell_type": "code",
   "execution_count": 37,
   "metadata": {},
   "outputs": [
    {
     "data": {
      "text/plain": [
       "rahul     40\n",
       "sachin    50\n",
       "nishu     50\n",
       "parshv     4\n",
       "Name: Series made from dictionary, dtype: int64"
      ]
     },
     "execution_count": 37,
     "metadata": {},
     "output_type": "execute_result"
    }
   ],
   "source": [
    "s5 = s4_from_dict * 2\n",
    "s5"
   ]
  },
  {
   "cell_type": "code",
   "execution_count": 38,
   "metadata": {},
   "outputs": [],
   "source": [
    "#### More Filtering Examples"
   ]
  },
  {
   "cell_type": "code",
   "execution_count": 39,
   "metadata": {},
   "outputs": [
    {
     "data": {
      "text/plain": [
       "rahul     40\n",
       "sachin    50\n",
       "nishu     50\n",
       "Name: Series made from dictionary, dtype: int64"
      ]
     },
     "execution_count": 39,
     "metadata": {},
     "output_type": "execute_result"
    }
   ],
   "source": [
    "s5[s5 > 20]"
   ]
  },
  {
   "cell_type": "code",
   "execution_count": 42,
   "metadata": {},
   "outputs": [],
   "source": [
    "#### Adding one more row\n",
    "s5['rekha'] = 40"
   ]
  },
  {
   "cell_type": "code",
   "execution_count": 43,
   "metadata": {},
   "outputs": [
    {
     "data": {
      "text/plain": [
       "rahul     40\n",
       "sachin    50\n",
       "nishu     50\n",
       "parshv     4\n",
       "rekha     40\n",
       "Name: Series made from dictionary, dtype: int64"
      ]
     },
     "execution_count": 43,
     "metadata": {},
     "output_type": "execute_result"
    }
   ],
   "source": [
    "s5"
   ]
  },
  {
   "cell_type": "markdown",
   "metadata": {},
   "source": [
    "#### Changing values based on condition\n",
    "\n",
    "Change the age to (-5) which are >= 50"
   ]
  },
  {
   "cell_type": "code",
   "execution_count": 45,
   "metadata": {},
   "outputs": [
    {
     "data": {
      "text/plain": [
       "rahul     40\n",
       "sachin    45\n",
       "nishu     45\n",
       "parshv     4\n",
       "rekha     40\n",
       "Name: Series made from dictionary, dtype: int64"
      ]
     },
     "execution_count": 45,
     "metadata": {},
     "output_type": "execute_result"
    }
   ],
   "source": [
    "s5[s5 >= 50] = s5-5\n",
    "s5"
   ]
  },
  {
   "cell_type": "code",
   "execution_count": 47,
   "metadata": {},
   "outputs": [
    {
     "data": {
      "text/plain": [
       "rahul     40\n",
       "sachin    45\n",
       "nishu     45\n",
       "rekha     40\n",
       "Name: Series made from dictionary, dtype: int64"
      ]
     },
     "execution_count": 47,
     "metadata": {},
     "output_type": "execute_result"
    }
   ],
   "source": [
    "s5[s5 >= 20]"
   ]
  },
  {
   "cell_type": "code",
   "execution_count": null,
   "metadata": {},
   "outputs": [],
   "source": [
    ""
   ]
  }
 ],
 "metadata": {
  "kernelspec": {
   "display_name": "Python 3",
   "language": "python",
   "name": "python3"
  },
  "language_info": {
   "codemirror_mode": {
    "name": "ipython",
    "version": 3.0
   },
   "file_extension": ".py",
   "mimetype": "text/x-python",
   "name": "python",
   "nbconvert_exporter": "python",
   "pygments_lexer": "ipython3",
   "version": "3.6.3"
  }
 },
 "nbformat": 4,
 "nbformat_minor": 0
}