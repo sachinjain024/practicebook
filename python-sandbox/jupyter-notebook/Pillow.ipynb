{
 "cells": [
  {
   "cell_type": "code",
   "execution_count": 11,
   "id": "insured-fighter",
   "metadata": {},
   "outputs": [],
   "source": [
    "from PIL import Image\n",
    "import sys\n",
    "import requests"
   ]
  },
  {
   "cell_type": "code",
   "execution_count": 39,
   "id": "intimate-twins",
   "metadata": {},
   "outputs": [],
   "source": [
    "# def get_image_from_url(url):\n",
    "#     try:\n",
    "#         resp = requests.get(url, stream=True).raw\n",
    "#     except requests.exceptions.RequestException as e:  \n",
    "#         sys.exit(1)\n",
    "\n",
    "#     img = Image.open(resp)\n",
    "#     img.show()\n",
    "#     return img"
   ]
  },
  {
   "cell_type": "code",
   "execution_count": 58,
   "id": "velvet-foundation",
   "metadata": {},
   "outputs": [],
   "source": [
    "## Download file\n",
    "# import wget\n",
    "# base_url = 'https://cdn.grofers.com/app/images/products/full_screen'\n",
    "# file_name = 'pro_380157.jpg'\n",
    "# directory = 'pillow/products_normal'\n",
    "\n",
    "# url = f\"{base_url}/{file_name}\"\n",
    "# local_path = f\"{directory}/{file_name}\"\n",
    "\n",
    "# print(url)\n",
    "# print(local_path)\n",
    "\n",
    "# wget.download(url, local_path)"
   ]
  },
  {
   "cell_type": "code",
   "execution_count": 59,
   "id": "advanced-suspension",
   "metadata": {},
   "outputs": [
    {
     "name": "stdout",
     "output_type": "stream",
     "text": [
      "Format: WEBP\n",
      "Size: (250, 250)\n",
      "Mode: RGB\n"
     ]
    }
   ],
   "source": [
    "try:\n",
    "    #img_url = 'https://i.ytimg.com/vi/vEYsdh6uiS4/maxresdefault.jpg'\n",
    "    \n",
    "    ## Need to debug why this is not working for Grofers CDN link but working for above image\n",
    "    #img_url = 'https://cdn.grofers.com/app/images/products/full_screen/pro_388639.jpg'\n",
    "    #product_img = get_image_from_url(img_url)\n",
    "    \n",
    "    product_img = Image.open('pillow/products_normal/pro_388639.jpeg')\n",
    "except IOError:\n",
    "    print(\"Unable to load image\")\n",
    "    sys.exit(1)\n",
    "    \n",
    "resized_product_img = product_img.resize((148,214))\n",
    "resized_product_img.show()\n",
    "\n",
    "print(\"Format: {0}\\nSize: {1}\\nMode: {2}\".format(product_img.format, \n",
    "    product_img.size, product_img.mode))"
   ]
  },
  {
   "cell_type": "code",
   "execution_count": 53,
   "id": "metallic-refrigerator",
   "metadata": {},
   "outputs": [
    {
     "name": "stdout",
     "output_type": "stream",
     "text": [
      "Format: JPEG\n",
      "Size: (1280, 720)\n",
      "Mode: RGB\n"
     ]
    }
   ],
   "source": [
    "try:\n",
    "    #img_url = 'https://i.ytimg.com/vi/vEYsdh6uiS4/maxresdefault.jpg'\n",
    "    #img_url = 'https://cdn.grofers.com/app/images/products/full_screen/pro_388639.jpg'\n",
    "    #product_img = get_image_from_url(img_url)\n",
    "    \n",
    "    product_img = Image.open('pillow/products_normal/pro_388639.jpeg')\n",
    "except IOError:\n",
    "    print(\"Unable to load image\")\n",
    "    sys.exit(1)\n",
    "    \n",
    "resized_product_img = product_img.resize((148,214))\n",
    "resized_product_img.show()\n",
    "\n",
    "print(\"Format: {0}\\nSize: {1}\\nMode: {2}\".format(product_img.format, \n",
    "    product_img.size, product_img.mode))"
   ]
  },
  {
   "cell_type": "code",
   "execution_count": 32,
   "id": "prescription-progressive",
   "metadata": {},
   "outputs": [],
   "source": [
    "from PIL import Image, ImageDraw, ImageFont\n",
    "\n",
    "title_img = Image.new('RGBA', (164, 64), 'white')    \n",
    "idraw = ImageDraw.Draw(title_img)\n",
    "\n",
    "font = ImageFont.truetype(\"pillow/fonts/comic-sans-ms/ComicSansMS3.ttf\", 20)\n",
    "idraw.text((10, 10), \"Product Title\", (100, 100, 100), font=font)\n",
    "\n",
    "title_img.show()"
   ]
  },
  {
   "cell_type": "code",
   "execution_count": 34,
   "id": "owned-cooperation",
   "metadata": {},
   "outputs": [],
   "source": [
    "from PIL import Image, ImageDraw, ImageFont\n",
    "\n",
    "subtitle_img = Image.new('RGBA', (164, 32), 'white')    \n",
    "idraw = ImageDraw.Draw(subtitle_img)\n",
    "\n",
    "font = ImageFont.truetype(\"pillow/fonts/comic-sans-ms/ComicSansMS3.ttf\", 16)\n",
    "idraw.text((10, 10), \"50g\", (100, 100, 100), font=font)\n",
    "\n",
    "subtitle_img.show()"
   ]
  },
  {
   "cell_type": "markdown",
   "id": "bigger-basic",
   "metadata": {},
   "source": [
    "## Concatenate the images now"
   ]
  },
  {
   "cell_type": "code",
   "execution_count": 60,
   "id": "chubby-straight",
   "metadata": {},
   "outputs": [],
   "source": [
    "images = [resized_product_img, title_img, subtitle_img]\n",
    "widths, heights = zip(*(i.size for i in images))\n",
    "\n",
    "max_width = max(widths)\n",
    "total_height = sum(heights)\n",
    "\n",
    "new_im = Image.new('RGB', (max_width, total_height))\n",
    "\n",
    "y_offset = 0\n",
    "for im in images:\n",
    "  new_im.paste(im, (0, y_offset))\n",
    "  y_offset += im.size[1]\n",
    "    \n",
    "new_im.show()"
   ]
  }
 ],
 "metadata": {
  "kernelspec": {
   "display_name": "Python 3",
   "language": "python",
   "name": "python3"
  },
  "language_info": {
   "codemirror_mode": {
    "name": "ipython",
    "version": 3
   },
   "file_extension": ".py",
   "mimetype": "text/x-python",
   "name": "python",
   "nbconvert_exporter": "python",
   "pygments_lexer": "ipython3",
   "version": "3.8.2"
  }
 },
 "nbformat": 4,
 "nbformat_minor": 5
}
